{
 "cells": [
  {
   "cell_type": "code",
   "execution_count": 505,
   "metadata": {
    "collapsed": true,
    "pycharm": {
     "name": "#%%\n"
    }
   },
   "outputs": [],
   "source": [
    "import dask.dataframe as dd\n",
    "import pandas as pd\n",
    "import pandas as pd"
   ]
  },
  {
   "cell_type": "code",
   "execution_count": 506,
   "outputs": [],
   "source": [
    "# Domestic Data Load\n",
    "vaers_vax_data = dd.read_csv('dataset/*VAERSVAX.csv',  delimiter=',',encoding='ISO-8859-1')\n",
    "vaers_vax_data.to_csv(\"dataset/testing.csv\", single_file=True)\n",
    "vaers_symptom_data = dd.read_csv('dataset/*VAERSSYMPTOMS.csv', delimiter=',',encoding='utf-8', dtype={'SYMPTOM5': 'object'})\n",
    "vaers_data = dd.read_csv('dataset/*VAERSDATA.csv',  delimiter=',',encoding='ISO-8859-1',\n",
    "       dtype={'ALLERGIES': 'object',\n",
    "       'BIRTH_DEFECT': 'object',\n",
    "       'CUR_ILL': 'object',\n",
    "       'DATEDIED': 'object',\n",
    "       'ER_ED_VISIT': 'object',\n",
    "       'ER_VISIT': 'object',\n",
    "       'HOSPITAL': 'object',\n",
    "       'L_THREAT': 'object',\n",
    "       'OFC_VISIT': 'object',\n",
    "       'OTHER_MEDS': 'object',\n",
    "       'RPT_DATE': 'object',\n",
    "       'TODAYS_DATE': 'object',\n",
    "       'X_STAY': 'object'})\n",
    "\n",
    "# Non Domestic Data Load\n",
    "vaers_vax_data_nondem = dd.read_csv('dataset/non_domestic/*VAERSVAX.csv', delimiter=',', encoding='ISO-8859-1', dtype={'VAX_SITE': 'object'})\n",
    "vaers_symptom_data_nondem = dd.read_csv('dataset/non_domestic/*VAERSSYMPTOMS.csv', delimiter=',', encoding='utf-8', dtype={'SYMPTOM5': 'object'})\n",
    "vaers_data_nondem = dd.read_csv('dataset/non_domestic/*VAERSDATA.csv', delimiter=',', encoding='ISO-8859-1',\n",
    "                                dtype={'ALLERGIES': 'object',\n",
    "       'BIRTH_DEFECT': 'object',\n",
    "       'CUR_ILL': 'object',\n",
    "       'DATEDIED': 'object',\n",
    "       'ER_ED_VISIT': 'object',\n",
    "       'L_THREAT': 'object',\n",
    "       'OFC_VISIT': 'object',\n",
    "       'TODAYS_DATE': 'object',\n",
    "       'X_STAY': 'object'})"
   ],
   "metadata": {
    "collapsed": false,
    "pycharm": {
     "name": "#%%\n"
    }
   }
  },
  {
   "cell_type": "markdown",
   "source": [
    "# Parsing data and Displaying the tails of the data"
   ],
   "metadata": {
    "collapsed": false,
    "pycharm": {
     "name": "#%% md\n"
    }
   }
  },
  {
   "cell_type": "code",
   "execution_count": 507,
   "outputs": [],
   "source": [
    "df = vaers_vax_data.compute()"
   ],
   "metadata": {
    "collapsed": false,
    "pycharm": {
     "name": "#%%\n"
    }
   }
  },
  {
   "cell_type": "code",
   "execution_count": 508,
   "outputs": [
    {
     "name": "stdout",
     "output_type": "stream",
     "text": [
      "(1938473, 8)\n"
     ]
    }
   ],
   "source": [
    "print(df.shape)"
   ],
   "metadata": {
    "collapsed": false,
    "pycharm": {
     "name": "#%%\n"
    }
   }
  },
  {
   "cell_type": "code",
   "execution_count": 509,
   "outputs": [
    {
     "data": {
      "text/plain": "       VAERS_ID VAX_TYPE         VAX_MANU  VAX_LOT VAX_DOSE_SERIES VAX_ROUTE  \\\n61782   2122786  COVID19  PFIZER\\BIONTECH   FK9895               2       SYR   \n61783   2122787  COVID19  PFIZER\\BIONTECH   EN6205               1        IM   \n61784   2122787  COVID19  PFIZER\\BIONTECH   FE3590               2        IM   \n61785   2122789  COVID19          JANSSEN  205A21A               1        UN   \n61786   2122791  COVID19          JANSSEN      NaN             UNK       NaN   \n\n      VAX_SITE                             VAX_NAME  \n61782       RA  COVID19 (COVID19 (PFIZER-BIONTECH))  \n61783       LA  COVID19 (COVID19 (PFIZER-BIONTECH))  \n61784       LA  COVID19 (COVID19 (PFIZER-BIONTECH))  \n61785       LA          COVID19 (COVID19 (JANSSEN))  \n61786      NaN          COVID19 (COVID19 (JANSSEN))  ",
      "text/html": "<div>\n<style scoped>\n    .dataframe tbody tr th:only-of-type {\n        vertical-align: middle;\n    }\n\n    .dataframe tbody tr th {\n        vertical-align: top;\n    }\n\n    .dataframe thead th {\n        text-align: right;\n    }\n</style>\n<table border=\"1\" class=\"dataframe\">\n  <thead>\n    <tr style=\"text-align: right;\">\n      <th></th>\n      <th>VAERS_ID</th>\n      <th>VAX_TYPE</th>\n      <th>VAX_MANU</th>\n      <th>VAX_LOT</th>\n      <th>VAX_DOSE_SERIES</th>\n      <th>VAX_ROUTE</th>\n      <th>VAX_SITE</th>\n      <th>VAX_NAME</th>\n    </tr>\n  </thead>\n  <tbody>\n    <tr>\n      <th>61782</th>\n      <td>2122786</td>\n      <td>COVID19</td>\n      <td>PFIZER\\BIONTECH</td>\n      <td>FK9895</td>\n      <td>2</td>\n      <td>SYR</td>\n      <td>RA</td>\n      <td>COVID19 (COVID19 (PFIZER-BIONTECH))</td>\n    </tr>\n    <tr>\n      <th>61783</th>\n      <td>2122787</td>\n      <td>COVID19</td>\n      <td>PFIZER\\BIONTECH</td>\n      <td>EN6205</td>\n      <td>1</td>\n      <td>IM</td>\n      <td>LA</td>\n      <td>COVID19 (COVID19 (PFIZER-BIONTECH))</td>\n    </tr>\n    <tr>\n      <th>61784</th>\n      <td>2122787</td>\n      <td>COVID19</td>\n      <td>PFIZER\\BIONTECH</td>\n      <td>FE3590</td>\n      <td>2</td>\n      <td>IM</td>\n      <td>LA</td>\n      <td>COVID19 (COVID19 (PFIZER-BIONTECH))</td>\n    </tr>\n    <tr>\n      <th>61785</th>\n      <td>2122789</td>\n      <td>COVID19</td>\n      <td>JANSSEN</td>\n      <td>205A21A</td>\n      <td>1</td>\n      <td>UN</td>\n      <td>LA</td>\n      <td>COVID19 (COVID19 (JANSSEN))</td>\n    </tr>\n    <tr>\n      <th>61786</th>\n      <td>2122791</td>\n      <td>COVID19</td>\n      <td>JANSSEN</td>\n      <td>NaN</td>\n      <td>UNK</td>\n      <td>NaN</td>\n      <td>NaN</td>\n      <td>COVID19 (COVID19 (JANSSEN))</td>\n    </tr>\n  </tbody>\n</table>\n</div>"
     },
     "execution_count": 509,
     "metadata": {},
     "output_type": "execute_result"
    }
   ],
   "source": [
    "vaers_vax_data.tail()"
   ],
   "metadata": {
    "collapsed": false,
    "pycharm": {
     "name": "#%%\n"
    }
   }
  },
  {
   "cell_type": "code",
   "execution_count": 510,
   "outputs": [
    {
     "data": {
      "text/plain": "       VAERS_ID                    SYMPTOM1  SYMPTOMVERSION1  \\\n77288   2122789                  Blood test             24.1   \n77289   2122789  Magnetic resonance imaging             24.1   \n77290   2122791        Abdominal pain upper             24.1   \n77291   2122791            Full blood count             24.1   \n77292   2122791              Platelet count             24.1   \n\n                            SYMPTOM2  SYMPTOMVERSION2  \\\n77288                         Chorea             24.1   \n77289                            NaN              NaN   \n77290                Abnormal faeces             24.1   \n77291  Gastrointestinal inflammation             24.1   \n77292                 Serum ferritin             24.1   \n\n                          SYMPTOM3  SYMPTOMVERSION3  \\\n77288                  Drug screen             24.1   \n77289                          NaN              NaN   \n77290         Blood iron decreased             24.1   \n77291  Iron binding capacity total             24.1   \n77292                          NaN              NaN   \n\n                                  SYMPTOM4  SYMPTOMVERSION4  \\\n77288                         Fibromyalgia             24.1   \n77289                                  NaN              NaN   \n77290  Differential white blood cell count             24.1   \n77291                       Ovulation pain             24.1   \n77292                                  NaN              NaN   \n\n                                                SYMPTOM5  SYMPTOMVERSION5  \n77288  Loss of personal independence in daily activities             24.1  \n77289                                                NaN              NaN  \n77290                                          Dyspepsia             24.1  \n77291                                               Pain             24.1  \n77292                                                NaN              NaN  ",
      "text/html": "<div>\n<style scoped>\n    .dataframe tbody tr th:only-of-type {\n        vertical-align: middle;\n    }\n\n    .dataframe tbody tr th {\n        vertical-align: top;\n    }\n\n    .dataframe thead th {\n        text-align: right;\n    }\n</style>\n<table border=\"1\" class=\"dataframe\">\n  <thead>\n    <tr style=\"text-align: right;\">\n      <th></th>\n      <th>VAERS_ID</th>\n      <th>SYMPTOM1</th>\n      <th>SYMPTOMVERSION1</th>\n      <th>SYMPTOM2</th>\n      <th>SYMPTOMVERSION2</th>\n      <th>SYMPTOM3</th>\n      <th>SYMPTOMVERSION3</th>\n      <th>SYMPTOM4</th>\n      <th>SYMPTOMVERSION4</th>\n      <th>SYMPTOM5</th>\n      <th>SYMPTOMVERSION5</th>\n    </tr>\n  </thead>\n  <tbody>\n    <tr>\n      <th>77288</th>\n      <td>2122789</td>\n      <td>Blood test</td>\n      <td>24.1</td>\n      <td>Chorea</td>\n      <td>24.1</td>\n      <td>Drug screen</td>\n      <td>24.1</td>\n      <td>Fibromyalgia</td>\n      <td>24.1</td>\n      <td>Loss of personal independence in daily activities</td>\n      <td>24.1</td>\n    </tr>\n    <tr>\n      <th>77289</th>\n      <td>2122789</td>\n      <td>Magnetic resonance imaging</td>\n      <td>24.1</td>\n      <td>NaN</td>\n      <td>NaN</td>\n      <td>NaN</td>\n      <td>NaN</td>\n      <td>NaN</td>\n      <td>NaN</td>\n      <td>NaN</td>\n      <td>NaN</td>\n    </tr>\n    <tr>\n      <th>77290</th>\n      <td>2122791</td>\n      <td>Abdominal pain upper</td>\n      <td>24.1</td>\n      <td>Abnormal faeces</td>\n      <td>24.1</td>\n      <td>Blood iron decreased</td>\n      <td>24.1</td>\n      <td>Differential white blood cell count</td>\n      <td>24.1</td>\n      <td>Dyspepsia</td>\n      <td>24.1</td>\n    </tr>\n    <tr>\n      <th>77291</th>\n      <td>2122791</td>\n      <td>Full blood count</td>\n      <td>24.1</td>\n      <td>Gastrointestinal inflammation</td>\n      <td>24.1</td>\n      <td>Iron binding capacity total</td>\n      <td>24.1</td>\n      <td>Ovulation pain</td>\n      <td>24.1</td>\n      <td>Pain</td>\n      <td>24.1</td>\n    </tr>\n    <tr>\n      <th>77292</th>\n      <td>2122791</td>\n      <td>Platelet count</td>\n      <td>24.1</td>\n      <td>Serum ferritin</td>\n      <td>24.1</td>\n      <td>NaN</td>\n      <td>NaN</td>\n      <td>NaN</td>\n      <td>NaN</td>\n      <td>NaN</td>\n      <td>NaN</td>\n    </tr>\n  </tbody>\n</table>\n</div>"
     },
     "execution_count": 510,
     "metadata": {},
     "output_type": "execute_result"
    }
   ],
   "source": [
    "vaers_symptom_data.tail()"
   ],
   "metadata": {
    "collapsed": false,
    "pycharm": {
     "name": "#%%\n"
    }
   }
  },
  {
   "cell_type": "code",
   "execution_count": 511,
   "outputs": [
    {
     "name": "stderr",
     "output_type": "stream",
     "text": [
      "/Users/mcruz/Documents/Programming/CSC-490/Project_2/venv/lib/python3.9/site-packages/dask/dataframe/io/csv.py:181: DtypeWarning: Columns (23) have mixed types. Specify dtype option on import or set low_memory=False.\n",
      "  df = reader(bio, **kwargs)\n"
     ]
    },
    {
     "data": {
      "text/plain": "       VAERS_ID    RECVDATE STATE  AGE_YRS  CAGE_YR  CAGE_MO SEX RPT_DATE  \\\n54791   2122785  02/18/2022    FL     67.0     67.0      NaN   F      NaN   \n54792   2122786  02/18/2022    NH     25.0     25.0      NaN   F      NaN   \n54793   2122787  02/18/2022    KY     83.0     83.0      NaN   M      NaN   \n54794   2122789  02/18/2022    MO     41.0     41.0      NaN   F      NaN   \n54795   2122791  02/18/2022    WA     28.0     28.0      NaN   F      NaN   \n\n                                                                                                                                                                                                  SYMPTOM_TEXT  \\\n54791  Site: Pain at Injection Site-Severe, Site: Swelling at Injection Site-Severe, Systemic: Body Aches Generalized-Severe, Systemic: Exhaustion / Lethargy-Severe, Systemic: Joint Pain-Severe, Systemic...   \n54792                                                                                                                              Rash on both feet, more noticable on left foot. No itchiness until next day   \n54793                                                                               developed fever and become short of breath, admitted to hospital on 2/17. placed on O2, started on decadron and remdesivir   \n54794        Chorea beginning approximately 2 months after injection.  Activities of Daily life affected greatly.  Quite challenging.  Suspected Fibromyalgia diagnosis approximately 1 month after injection.   \n54795  -low Iron levels -constant heart burn -actual hurt pain sometimes lasting longer than 5-10 minutes -2021 September, October and November: ovulation pain that occurred multiple times a month (not n...   \n\n      DIED DATEDIED L_THREAT ER_VISIT HOSPITAL  HOSPDAYS X_STAY DISABLE  \\\n54791  NaN      NaN      NaN      NaN      NaN       NaN    NaN     NaN   \n54792  NaN      NaN      NaN      NaN      NaN       NaN    NaN     NaN   \n54793  NaN      NaN      NaN      NaN        Y       NaN    NaN     NaN   \n54794  NaN      NaN      NaN      NaN      NaN       NaN    NaN     NaN   \n54795  NaN      NaN      NaN      NaN      NaN       NaN    NaN     NaN   \n\n      RECOVD    VAX_DATE  ONSET_DATE  NUMDAYS  \\\n54791      N  11/22/2021  12/06/2021     14.0   \n54792      Y  02/09/2022  02/10/2022      1.0   \n54793      N  03/08/2021  02/17/2022    346.0   \n54794      N  08/19/2021  11/03/2021     76.0   \n54795      N  06/01/2021  11/19/2021    171.0   \n\n                                                                                     LAB_DATA  \\\n54791                                                                                     NaN   \n54792                                                                                     NaN   \n54793                                                                                     NaN   \n54794  Blood screening and mri and drug screening for  ruling out possible causes and factors   \n54795                                -iron, tibc, and ferritin panel -cbc (includes diff/plt)   \n\n      V_ADMINBY V_FUNDBY  \\\n54791       PHM      NaN   \n54792       PHM      NaN   \n54793       UNK      NaN   \n54794       PHM      NaN   \n54795       PUB      NaN   \n\n                                                                                                                                     OTHER_MEDS  \\\n54791                                                                                                                                       NaN   \n54792                                                                                                                         Multivitamin only   \n54793                                                                                                                                       NaN   \n54794                                                                                                                                       NaN   \n54795  Every other day Nov 2021 started on iron pills,  Sporadically September 2021 began taking healthy cycle tea and chaster tree berry pills   \n\n      CUR_ILL             HISTORY PRIOR_VAX SPLTTYPE  FORM_VERS TODAYS_DATE  \\\n54791     NaN                 NaN       NaN      NaN          2  02/18/2022   \n54792     NaN                 NaN       NaN      NaN          2  02/18/2022   \n54793     NaN  CLL - in remission       NaN      NaN          2  02/18/2022   \n54794     NaN                 NaN       NaN      NaN          2  02/18/2022   \n54795    none                none       NaN      NaN          2  02/18/2022   \n\n      BIRTH_DEFECT OFC_VISIT ER_ED_VISIT ALLERGIES  \n54791          NaN         Y         NaN       NaN  \n54792          NaN       NaN         NaN       NaN  \n54793          NaN       NaN         NaN       NaN  \n54794          NaN       NaN         NaN       NaN  \n54795          NaN         Y         NaN       NaN  ",
      "text/html": "<div>\n<style scoped>\n    .dataframe tbody tr th:only-of-type {\n        vertical-align: middle;\n    }\n\n    .dataframe tbody tr th {\n        vertical-align: top;\n    }\n\n    .dataframe thead th {\n        text-align: right;\n    }\n</style>\n<table border=\"1\" class=\"dataframe\">\n  <thead>\n    <tr style=\"text-align: right;\">\n      <th></th>\n      <th>VAERS_ID</th>\n      <th>RECVDATE</th>\n      <th>STATE</th>\n      <th>AGE_YRS</th>\n      <th>CAGE_YR</th>\n      <th>CAGE_MO</th>\n      <th>SEX</th>\n      <th>RPT_DATE</th>\n      <th>SYMPTOM_TEXT</th>\n      <th>DIED</th>\n      <th>DATEDIED</th>\n      <th>L_THREAT</th>\n      <th>ER_VISIT</th>\n      <th>HOSPITAL</th>\n      <th>HOSPDAYS</th>\n      <th>X_STAY</th>\n      <th>DISABLE</th>\n      <th>RECOVD</th>\n      <th>VAX_DATE</th>\n      <th>ONSET_DATE</th>\n      <th>NUMDAYS</th>\n      <th>LAB_DATA</th>\n      <th>V_ADMINBY</th>\n      <th>V_FUNDBY</th>\n      <th>OTHER_MEDS</th>\n      <th>CUR_ILL</th>\n      <th>HISTORY</th>\n      <th>PRIOR_VAX</th>\n      <th>SPLTTYPE</th>\n      <th>FORM_VERS</th>\n      <th>TODAYS_DATE</th>\n      <th>BIRTH_DEFECT</th>\n      <th>OFC_VISIT</th>\n      <th>ER_ED_VISIT</th>\n      <th>ALLERGIES</th>\n    </tr>\n  </thead>\n  <tbody>\n    <tr>\n      <th>54791</th>\n      <td>2122785</td>\n      <td>02/18/2022</td>\n      <td>FL</td>\n      <td>67.0</td>\n      <td>67.0</td>\n      <td>NaN</td>\n      <td>F</td>\n      <td>NaN</td>\n      <td>Site: Pain at Injection Site-Severe, Site: Swelling at Injection Site-Severe, Systemic: Body Aches Generalized-Severe, Systemic: Exhaustion / Lethargy-Severe, Systemic: Joint Pain-Severe, Systemic...</td>\n      <td>NaN</td>\n      <td>NaN</td>\n      <td>NaN</td>\n      <td>NaN</td>\n      <td>NaN</td>\n      <td>NaN</td>\n      <td>NaN</td>\n      <td>NaN</td>\n      <td>N</td>\n      <td>11/22/2021</td>\n      <td>12/06/2021</td>\n      <td>14.0</td>\n      <td>NaN</td>\n      <td>PHM</td>\n      <td>NaN</td>\n      <td>NaN</td>\n      <td>NaN</td>\n      <td>NaN</td>\n      <td>NaN</td>\n      <td>NaN</td>\n      <td>2</td>\n      <td>02/18/2022</td>\n      <td>NaN</td>\n      <td>Y</td>\n      <td>NaN</td>\n      <td>NaN</td>\n    </tr>\n    <tr>\n      <th>54792</th>\n      <td>2122786</td>\n      <td>02/18/2022</td>\n      <td>NH</td>\n      <td>25.0</td>\n      <td>25.0</td>\n      <td>NaN</td>\n      <td>F</td>\n      <td>NaN</td>\n      <td>Rash on both feet, more noticable on left foot. No itchiness until next day</td>\n      <td>NaN</td>\n      <td>NaN</td>\n      <td>NaN</td>\n      <td>NaN</td>\n      <td>NaN</td>\n      <td>NaN</td>\n      <td>NaN</td>\n      <td>NaN</td>\n      <td>Y</td>\n      <td>02/09/2022</td>\n      <td>02/10/2022</td>\n      <td>1.0</td>\n      <td>NaN</td>\n      <td>PHM</td>\n      <td>NaN</td>\n      <td>Multivitamin only</td>\n      <td>NaN</td>\n      <td>NaN</td>\n      <td>NaN</td>\n      <td>NaN</td>\n      <td>2</td>\n      <td>02/18/2022</td>\n      <td>NaN</td>\n      <td>NaN</td>\n      <td>NaN</td>\n      <td>NaN</td>\n    </tr>\n    <tr>\n      <th>54793</th>\n      <td>2122787</td>\n      <td>02/18/2022</td>\n      <td>KY</td>\n      <td>83.0</td>\n      <td>83.0</td>\n      <td>NaN</td>\n      <td>M</td>\n      <td>NaN</td>\n      <td>developed fever and become short of breath, admitted to hospital on 2/17. placed on O2, started on decadron and remdesivir</td>\n      <td>NaN</td>\n      <td>NaN</td>\n      <td>NaN</td>\n      <td>NaN</td>\n      <td>Y</td>\n      <td>NaN</td>\n      <td>NaN</td>\n      <td>NaN</td>\n      <td>N</td>\n      <td>03/08/2021</td>\n      <td>02/17/2022</td>\n      <td>346.0</td>\n      <td>NaN</td>\n      <td>UNK</td>\n      <td>NaN</td>\n      <td>NaN</td>\n      <td>NaN</td>\n      <td>CLL - in remission</td>\n      <td>NaN</td>\n      <td>NaN</td>\n      <td>2</td>\n      <td>02/18/2022</td>\n      <td>NaN</td>\n      <td>NaN</td>\n      <td>NaN</td>\n      <td>NaN</td>\n    </tr>\n    <tr>\n      <th>54794</th>\n      <td>2122789</td>\n      <td>02/18/2022</td>\n      <td>MO</td>\n      <td>41.0</td>\n      <td>41.0</td>\n      <td>NaN</td>\n      <td>F</td>\n      <td>NaN</td>\n      <td>Chorea beginning approximately 2 months after injection.  Activities of Daily life affected greatly.  Quite challenging.  Suspected Fibromyalgia diagnosis approximately 1 month after injection.</td>\n      <td>NaN</td>\n      <td>NaN</td>\n      <td>NaN</td>\n      <td>NaN</td>\n      <td>NaN</td>\n      <td>NaN</td>\n      <td>NaN</td>\n      <td>NaN</td>\n      <td>N</td>\n      <td>08/19/2021</td>\n      <td>11/03/2021</td>\n      <td>76.0</td>\n      <td>Blood screening and mri and drug screening for  ruling out possible causes and factors</td>\n      <td>PHM</td>\n      <td>NaN</td>\n      <td>NaN</td>\n      <td>NaN</td>\n      <td>NaN</td>\n      <td>NaN</td>\n      <td>NaN</td>\n      <td>2</td>\n      <td>02/18/2022</td>\n      <td>NaN</td>\n      <td>NaN</td>\n      <td>NaN</td>\n      <td>NaN</td>\n    </tr>\n    <tr>\n      <th>54795</th>\n      <td>2122791</td>\n      <td>02/18/2022</td>\n      <td>WA</td>\n      <td>28.0</td>\n      <td>28.0</td>\n      <td>NaN</td>\n      <td>F</td>\n      <td>NaN</td>\n      <td>-low Iron levels -constant heart burn -actual hurt pain sometimes lasting longer than 5-10 minutes -2021 September, October and November: ovulation pain that occurred multiple times a month (not n...</td>\n      <td>NaN</td>\n      <td>NaN</td>\n      <td>NaN</td>\n      <td>NaN</td>\n      <td>NaN</td>\n      <td>NaN</td>\n      <td>NaN</td>\n      <td>NaN</td>\n      <td>N</td>\n      <td>06/01/2021</td>\n      <td>11/19/2021</td>\n      <td>171.0</td>\n      <td>-iron, tibc, and ferritin panel -cbc (includes diff/plt)</td>\n      <td>PUB</td>\n      <td>NaN</td>\n      <td>Every other day Nov 2021 started on iron pills,  Sporadically September 2021 began taking healthy cycle tea and chaster tree berry pills</td>\n      <td>none</td>\n      <td>none</td>\n      <td>NaN</td>\n      <td>NaN</td>\n      <td>2</td>\n      <td>02/18/2022</td>\n      <td>NaN</td>\n      <td>Y</td>\n      <td>NaN</td>\n      <td>NaN</td>\n    </tr>\n  </tbody>\n</table>\n</div>"
     },
     "execution_count": 511,
     "metadata": {},
     "output_type": "execute_result"
    }
   ],
   "source": [
    "vaers_data.tail()"
   ],
   "metadata": {
    "collapsed": false,
    "pycharm": {
     "name": "#%%\n"
    }
   }
  },
  {
   "cell_type": "code",
   "execution_count": 512,
   "outputs": [
    {
     "data": {
      "text/plain": "        VAERS_ID VAX_TYPE VAX_MANU  VAX_LOT VAX_DOSE_SERIES VAX_ROUTE  \\\n533776   2122690  COVID19  JANSSEN      NaN               1        OT   \n533777   2122697  COVID19  JANSSEN      NaN               1        OT   \n533778   2122707  COVID19  JANSSEN  ACB3331               1        OT   \n533779   2122708  COVID19  JANSSEN  ACB6894               1        OT   \n533780   2122709  COVID19  JANSSEN  ACB3221               1       NaN   \n\n       VAX_SITE                     VAX_NAME  \n533776      NaN  COVID19 (COVID19 (JANSSEN))  \n533777      NaN  COVID19 (COVID19 (JANSSEN))  \n533778      NaN  COVID19 (COVID19 (JANSSEN))  \n533779      NaN  COVID19 (COVID19 (JANSSEN))  \n533780      NaN  COVID19 (COVID19 (JANSSEN))  ",
      "text/html": "<div>\n<style scoped>\n    .dataframe tbody tr th:only-of-type {\n        vertical-align: middle;\n    }\n\n    .dataframe tbody tr th {\n        vertical-align: top;\n    }\n\n    .dataframe thead th {\n        text-align: right;\n    }\n</style>\n<table border=\"1\" class=\"dataframe\">\n  <thead>\n    <tr style=\"text-align: right;\">\n      <th></th>\n      <th>VAERS_ID</th>\n      <th>VAX_TYPE</th>\n      <th>VAX_MANU</th>\n      <th>VAX_LOT</th>\n      <th>VAX_DOSE_SERIES</th>\n      <th>VAX_ROUTE</th>\n      <th>VAX_SITE</th>\n      <th>VAX_NAME</th>\n    </tr>\n  </thead>\n  <tbody>\n    <tr>\n      <th>533776</th>\n      <td>2122690</td>\n      <td>COVID19</td>\n      <td>JANSSEN</td>\n      <td>NaN</td>\n      <td>1</td>\n      <td>OT</td>\n      <td>NaN</td>\n      <td>COVID19 (COVID19 (JANSSEN))</td>\n    </tr>\n    <tr>\n      <th>533777</th>\n      <td>2122697</td>\n      <td>COVID19</td>\n      <td>JANSSEN</td>\n      <td>NaN</td>\n      <td>1</td>\n      <td>OT</td>\n      <td>NaN</td>\n      <td>COVID19 (COVID19 (JANSSEN))</td>\n    </tr>\n    <tr>\n      <th>533778</th>\n      <td>2122707</td>\n      <td>COVID19</td>\n      <td>JANSSEN</td>\n      <td>ACB3331</td>\n      <td>1</td>\n      <td>OT</td>\n      <td>NaN</td>\n      <td>COVID19 (COVID19 (JANSSEN))</td>\n    </tr>\n    <tr>\n      <th>533779</th>\n      <td>2122708</td>\n      <td>COVID19</td>\n      <td>JANSSEN</td>\n      <td>ACB6894</td>\n      <td>1</td>\n      <td>OT</td>\n      <td>NaN</td>\n      <td>COVID19 (COVID19 (JANSSEN))</td>\n    </tr>\n    <tr>\n      <th>533780</th>\n      <td>2122709</td>\n      <td>COVID19</td>\n      <td>JANSSEN</td>\n      <td>ACB3221</td>\n      <td>1</td>\n      <td>NaN</td>\n      <td>NaN</td>\n      <td>COVID19 (COVID19 (JANSSEN))</td>\n    </tr>\n  </tbody>\n</table>\n</div>"
     },
     "execution_count": 512,
     "metadata": {},
     "output_type": "execute_result"
    }
   ],
   "source": [
    "vaers_vax_data_nondem.tail()"
   ],
   "metadata": {
    "collapsed": false,
    "pycharm": {
     "name": "#%%\n"
    }
   }
  },
  {
   "cell_type": "code",
   "execution_count": 513,
   "outputs": [
    {
     "data": {
      "text/plain": "        VAERS_ID               SYMPTOM1  SYMPTOMVERSION1  \\\n734685   2122690     Disease recurrence             24.1   \n734686   2122697               Dyspnoea             24.1   \n734687   2122707               COVID-19             24.1   \n734688   2122708  Loss of consciousness             24.1   \n734689   2122709                Syncope             24.1   \n\n                    SYMPTOM2  SYMPTOMVERSION2 SYMPTOM3  SYMPTOMVERSION3  \\\n734685  Rheumatoid arthritis             24.1      NaN              NaN   \n734686               Fatigue             24.1  Syncope             24.1   \n734687       SARS-CoV-2 test             24.1      NaN              NaN   \n734688                   NaN              NaN      NaN              NaN   \n734689                   NaN              NaN      NaN              NaN   \n\n       SYMPTOM4  SYMPTOMVERSION4 SYMPTOM5  SYMPTOMVERSION5  \n734685      NaN              NaN      NaN              NaN  \n734686      NaN              NaN      NaN              NaN  \n734687      NaN              NaN      NaN              NaN  \n734688      NaN              NaN      NaN              NaN  \n734689      NaN              NaN      NaN              NaN  ",
      "text/html": "<div>\n<style scoped>\n    .dataframe tbody tr th:only-of-type {\n        vertical-align: middle;\n    }\n\n    .dataframe tbody tr th {\n        vertical-align: top;\n    }\n\n    .dataframe thead th {\n        text-align: right;\n    }\n</style>\n<table border=\"1\" class=\"dataframe\">\n  <thead>\n    <tr style=\"text-align: right;\">\n      <th></th>\n      <th>VAERS_ID</th>\n      <th>SYMPTOM1</th>\n      <th>SYMPTOMVERSION1</th>\n      <th>SYMPTOM2</th>\n      <th>SYMPTOMVERSION2</th>\n      <th>SYMPTOM3</th>\n      <th>SYMPTOMVERSION3</th>\n      <th>SYMPTOM4</th>\n      <th>SYMPTOMVERSION4</th>\n      <th>SYMPTOM5</th>\n      <th>SYMPTOMVERSION5</th>\n    </tr>\n  </thead>\n  <tbody>\n    <tr>\n      <th>734685</th>\n      <td>2122690</td>\n      <td>Disease recurrence</td>\n      <td>24.1</td>\n      <td>Rheumatoid arthritis</td>\n      <td>24.1</td>\n      <td>NaN</td>\n      <td>NaN</td>\n      <td>NaN</td>\n      <td>NaN</td>\n      <td>NaN</td>\n      <td>NaN</td>\n    </tr>\n    <tr>\n      <th>734686</th>\n      <td>2122697</td>\n      <td>Dyspnoea</td>\n      <td>24.1</td>\n      <td>Fatigue</td>\n      <td>24.1</td>\n      <td>Syncope</td>\n      <td>24.1</td>\n      <td>NaN</td>\n      <td>NaN</td>\n      <td>NaN</td>\n      <td>NaN</td>\n    </tr>\n    <tr>\n      <th>734687</th>\n      <td>2122707</td>\n      <td>COVID-19</td>\n      <td>24.1</td>\n      <td>SARS-CoV-2 test</td>\n      <td>24.1</td>\n      <td>NaN</td>\n      <td>NaN</td>\n      <td>NaN</td>\n      <td>NaN</td>\n      <td>NaN</td>\n      <td>NaN</td>\n    </tr>\n    <tr>\n      <th>734688</th>\n      <td>2122708</td>\n      <td>Loss of consciousness</td>\n      <td>24.1</td>\n      <td>NaN</td>\n      <td>NaN</td>\n      <td>NaN</td>\n      <td>NaN</td>\n      <td>NaN</td>\n      <td>NaN</td>\n      <td>NaN</td>\n      <td>NaN</td>\n    </tr>\n    <tr>\n      <th>734689</th>\n      <td>2122709</td>\n      <td>Syncope</td>\n      <td>24.1</td>\n      <td>NaN</td>\n      <td>NaN</td>\n      <td>NaN</td>\n      <td>NaN</td>\n      <td>NaN</td>\n      <td>NaN</td>\n      <td>NaN</td>\n      <td>NaN</td>\n    </tr>\n  </tbody>\n</table>\n</div>"
     },
     "execution_count": 513,
     "metadata": {},
     "output_type": "execute_result"
    }
   ],
   "source": [
    "vaers_symptom_data_nondem.tail()"
   ],
   "metadata": {
    "collapsed": false,
    "pycharm": {
     "name": "#%%\n"
    }
   }
  },
  {
   "cell_type": "code",
   "execution_count": 514,
   "outputs": [
    {
     "data": {
      "text/plain": "       VAERS_ID    RECVDATE STATE  AGE_YRS  CAGE_YR  CAGE_MO SEX  RPT_DATE  \\\n26891   2122690  02/18/2022    FR      NaN      NaN      NaN   F       NaN   \n26892   2122697  02/18/2022    FR      NaN      NaN      NaN   M       NaN   \n26893   2122707  02/18/2022    FR     83.0     83.0      NaN   F       NaN   \n26894   2122708  02/18/2022    FR      NaN      NaN      NaN   F       NaN   \n26895   2122709  02/18/2022    FR     33.0      NaN      NaN   M       NaN   \n\n                                                                                                                                                                                                  SYMPTOM_TEXT  \\\n26891  DISEASE RECURRENCE; RHEUMATOID ARTHRITIS; This spontaneous report received from a consumer by a Regulatory Authority (FR-AFSSAPS-ST20220328) on 17-FEB-2022 concerned a 66 year old female of unspec...   \n26892  FATIGUE; DYSPNEA; FAINT; This spontaneous report received from a pharmacist by a Regulatory Authority (GR-GREOF-202200841) on 17-FEB-2022 and concerned a 23 year old male. The patient's weight was...   \n26893  COVID-19; This spontaneous report received from a health care professional by a Regulatory Authority (PHIFDA, PH-PHFDA-30013571) on 17-FEB-2022 and concerned an 83 year old female of unspecified r...   \n26894  LOSS OF CONSCIOUSNESS; This spontaneous report received from a health care professional by a Regulatory Authority (PH-PHFDA-30013576) on 17-FEB-2022 and concerned a female of unspecified age, race...   \n26895  VASOVAGAL SYNCOPE; This spontaneous report received from a health care professional by a Regulatory Authority (PH-PHFDA-300135714) on 17-FEB-2022 concerned a 33 year old male of an unspecified rac...   \n\n      DIED    DATEDIED L_THREAT  ER_VISIT HOSPITAL  HOSPDAYS X_STAY DISABLE  \\\n26891  NaN         NaN      NaN       NaN      NaN       NaN    NaN     NaN   \n26892  NaN         NaN        Y       NaN      NaN       NaN    NaN     NaN   \n26893    Y  02/11/2022      NaN       NaN      NaN       NaN    NaN     NaN   \n26894  NaN         NaN      NaN       NaN        Y       NaN    NaN     NaN   \n26895  NaN         NaN      NaN       NaN      NaN       NaN    NaN     NaN   \n\n      RECOVD    VAX_DATE  ONSET_DATE  NUMDAYS  \\\n26891      N  07/01/2021  08/02/2021     32.0   \n26892      N  02/08/2022         NaN      NaN   \n26893      N  01/18/2022  02/06/2022     19.0   \n26894      U  01/10/2022  02/11/2022     32.0   \n26895      Y         NaN  02/10/2022      NaN   \n\n                                                                                                LAB_DATA  \\\n26891                                                                                                NaN   \n26892                                                                                                NaN   \n26893  Test Date: 20220206; Test Name: COVID-19 virus test; Result Unstructured Data: Confirmed covid-19   \n26894                                                                                                NaN   \n26895                                                                                                NaN   \n\n      V_ADMINBY V_FUNDBY OTHER_MEDS               CUR_ILL            HISTORY  \\\n26891       OTH      NaN        NaN  Arthritis rheumatoid  Comments: Unknown   \n26892       OTH      NaN        NaN                   NaN                NaN   \n26893       OTH      NaN        NaN                   NaN                NaN   \n26894       OTH      NaN        NaN                   NaN                NaN   \n26895       OTH      NaN        NaN                   NaN                NaN   \n\n      PRIOR_VAX             SPLTTYPE  FORM_VERS TODAYS_DATE BIRTH_DEFECT  \\\n26891       NaN  FRJNJFOC20220240313          2  02/18/2022          NaN   \n26892       NaN  GRJNJFOC20220240209          2  02/18/2022          NaN   \n26893       NaN  PHJNJFOC20220240268          2  02/18/2022          NaN   \n26894       NaN  PHJNJFOC20220240437          2  02/18/2022          NaN   \n26895       NaN  PHJNJFOC20220240704          2  02/18/2022          NaN   \n\n      OFC_VISIT ER_ED_VISIT ALLERGIES  \n26891       NaN         NaN       NaN  \n26892       NaN         NaN       NaN  \n26893       NaN         NaN       NaN  \n26894       NaN         NaN       NaN  \n26895       NaN         NaN       NaN  ",
      "text/html": "<div>\n<style scoped>\n    .dataframe tbody tr th:only-of-type {\n        vertical-align: middle;\n    }\n\n    .dataframe tbody tr th {\n        vertical-align: top;\n    }\n\n    .dataframe thead th {\n        text-align: right;\n    }\n</style>\n<table border=\"1\" class=\"dataframe\">\n  <thead>\n    <tr style=\"text-align: right;\">\n      <th></th>\n      <th>VAERS_ID</th>\n      <th>RECVDATE</th>\n      <th>STATE</th>\n      <th>AGE_YRS</th>\n      <th>CAGE_YR</th>\n      <th>CAGE_MO</th>\n      <th>SEX</th>\n      <th>RPT_DATE</th>\n      <th>SYMPTOM_TEXT</th>\n      <th>DIED</th>\n      <th>DATEDIED</th>\n      <th>L_THREAT</th>\n      <th>ER_VISIT</th>\n      <th>HOSPITAL</th>\n      <th>HOSPDAYS</th>\n      <th>X_STAY</th>\n      <th>DISABLE</th>\n      <th>RECOVD</th>\n      <th>VAX_DATE</th>\n      <th>ONSET_DATE</th>\n      <th>NUMDAYS</th>\n      <th>LAB_DATA</th>\n      <th>V_ADMINBY</th>\n      <th>V_FUNDBY</th>\n      <th>OTHER_MEDS</th>\n      <th>CUR_ILL</th>\n      <th>HISTORY</th>\n      <th>PRIOR_VAX</th>\n      <th>SPLTTYPE</th>\n      <th>FORM_VERS</th>\n      <th>TODAYS_DATE</th>\n      <th>BIRTH_DEFECT</th>\n      <th>OFC_VISIT</th>\n      <th>ER_ED_VISIT</th>\n      <th>ALLERGIES</th>\n    </tr>\n  </thead>\n  <tbody>\n    <tr>\n      <th>26891</th>\n      <td>2122690</td>\n      <td>02/18/2022</td>\n      <td>FR</td>\n      <td>NaN</td>\n      <td>NaN</td>\n      <td>NaN</td>\n      <td>F</td>\n      <td>NaN</td>\n      <td>DISEASE RECURRENCE; RHEUMATOID ARTHRITIS; This spontaneous report received from a consumer by a Regulatory Authority (FR-AFSSAPS-ST20220328) on 17-FEB-2022 concerned a 66 year old female of unspec...</td>\n      <td>NaN</td>\n      <td>NaN</td>\n      <td>NaN</td>\n      <td>NaN</td>\n      <td>NaN</td>\n      <td>NaN</td>\n      <td>NaN</td>\n      <td>NaN</td>\n      <td>N</td>\n      <td>07/01/2021</td>\n      <td>08/02/2021</td>\n      <td>32.0</td>\n      <td>NaN</td>\n      <td>OTH</td>\n      <td>NaN</td>\n      <td>NaN</td>\n      <td>Arthritis rheumatoid</td>\n      <td>Comments: Unknown</td>\n      <td>NaN</td>\n      <td>FRJNJFOC20220240313</td>\n      <td>2</td>\n      <td>02/18/2022</td>\n      <td>NaN</td>\n      <td>NaN</td>\n      <td>NaN</td>\n      <td>NaN</td>\n    </tr>\n    <tr>\n      <th>26892</th>\n      <td>2122697</td>\n      <td>02/18/2022</td>\n      <td>FR</td>\n      <td>NaN</td>\n      <td>NaN</td>\n      <td>NaN</td>\n      <td>M</td>\n      <td>NaN</td>\n      <td>FATIGUE; DYSPNEA; FAINT; This spontaneous report received from a pharmacist by a Regulatory Authority (GR-GREOF-202200841) on 17-FEB-2022 and concerned a 23 year old male. The patient's weight was...</td>\n      <td>NaN</td>\n      <td>NaN</td>\n      <td>Y</td>\n      <td>NaN</td>\n      <td>NaN</td>\n      <td>NaN</td>\n      <td>NaN</td>\n      <td>NaN</td>\n      <td>N</td>\n      <td>02/08/2022</td>\n      <td>NaN</td>\n      <td>NaN</td>\n      <td>NaN</td>\n      <td>OTH</td>\n      <td>NaN</td>\n      <td>NaN</td>\n      <td>NaN</td>\n      <td>NaN</td>\n      <td>NaN</td>\n      <td>GRJNJFOC20220240209</td>\n      <td>2</td>\n      <td>02/18/2022</td>\n      <td>NaN</td>\n      <td>NaN</td>\n      <td>NaN</td>\n      <td>NaN</td>\n    </tr>\n    <tr>\n      <th>26893</th>\n      <td>2122707</td>\n      <td>02/18/2022</td>\n      <td>FR</td>\n      <td>83.0</td>\n      <td>83.0</td>\n      <td>NaN</td>\n      <td>F</td>\n      <td>NaN</td>\n      <td>COVID-19; This spontaneous report received from a health care professional by a Regulatory Authority (PHIFDA, PH-PHFDA-30013571) on 17-FEB-2022 and concerned an 83 year old female of unspecified r...</td>\n      <td>Y</td>\n      <td>02/11/2022</td>\n      <td>NaN</td>\n      <td>NaN</td>\n      <td>NaN</td>\n      <td>NaN</td>\n      <td>NaN</td>\n      <td>NaN</td>\n      <td>N</td>\n      <td>01/18/2022</td>\n      <td>02/06/2022</td>\n      <td>19.0</td>\n      <td>Test Date: 20220206; Test Name: COVID-19 virus test; Result Unstructured Data: Confirmed covid-19</td>\n      <td>OTH</td>\n      <td>NaN</td>\n      <td>NaN</td>\n      <td>NaN</td>\n      <td>NaN</td>\n      <td>NaN</td>\n      <td>PHJNJFOC20220240268</td>\n      <td>2</td>\n      <td>02/18/2022</td>\n      <td>NaN</td>\n      <td>NaN</td>\n      <td>NaN</td>\n      <td>NaN</td>\n    </tr>\n    <tr>\n      <th>26894</th>\n      <td>2122708</td>\n      <td>02/18/2022</td>\n      <td>FR</td>\n      <td>NaN</td>\n      <td>NaN</td>\n      <td>NaN</td>\n      <td>F</td>\n      <td>NaN</td>\n      <td>LOSS OF CONSCIOUSNESS; This spontaneous report received from a health care professional by a Regulatory Authority (PH-PHFDA-30013576) on 17-FEB-2022 and concerned a female of unspecified age, race...</td>\n      <td>NaN</td>\n      <td>NaN</td>\n      <td>NaN</td>\n      <td>NaN</td>\n      <td>Y</td>\n      <td>NaN</td>\n      <td>NaN</td>\n      <td>NaN</td>\n      <td>U</td>\n      <td>01/10/2022</td>\n      <td>02/11/2022</td>\n      <td>32.0</td>\n      <td>NaN</td>\n      <td>OTH</td>\n      <td>NaN</td>\n      <td>NaN</td>\n      <td>NaN</td>\n      <td>NaN</td>\n      <td>NaN</td>\n      <td>PHJNJFOC20220240437</td>\n      <td>2</td>\n      <td>02/18/2022</td>\n      <td>NaN</td>\n      <td>NaN</td>\n      <td>NaN</td>\n      <td>NaN</td>\n    </tr>\n    <tr>\n      <th>26895</th>\n      <td>2122709</td>\n      <td>02/18/2022</td>\n      <td>FR</td>\n      <td>33.0</td>\n      <td>NaN</td>\n      <td>NaN</td>\n      <td>M</td>\n      <td>NaN</td>\n      <td>VASOVAGAL SYNCOPE; This spontaneous report received from a health care professional by a Regulatory Authority (PH-PHFDA-300135714) on 17-FEB-2022 concerned a 33 year old male of an unspecified rac...</td>\n      <td>NaN</td>\n      <td>NaN</td>\n      <td>NaN</td>\n      <td>NaN</td>\n      <td>NaN</td>\n      <td>NaN</td>\n      <td>NaN</td>\n      <td>NaN</td>\n      <td>Y</td>\n      <td>NaN</td>\n      <td>02/10/2022</td>\n      <td>NaN</td>\n      <td>NaN</td>\n      <td>OTH</td>\n      <td>NaN</td>\n      <td>NaN</td>\n      <td>NaN</td>\n      <td>NaN</td>\n      <td>NaN</td>\n      <td>PHJNJFOC20220240704</td>\n      <td>2</td>\n      <td>02/18/2022</td>\n      <td>NaN</td>\n      <td>NaN</td>\n      <td>NaN</td>\n      <td>NaN</td>\n    </tr>\n  </tbody>\n</table>\n</div>"
     },
     "execution_count": 514,
     "metadata": {},
     "output_type": "execute_result"
    }
   ],
   "source": [
    "vaers_data_nondem.tail()"
   ],
   "metadata": {
    "collapsed": false,
    "pycharm": {
     "name": "#%%\n"
    }
   }
  },
  {
   "cell_type": "markdown",
   "source": [
    "# Computing Number of Deaths For Each Vaccine Manufacturer (Domestic)"
   ],
   "metadata": {
    "collapsed": false,
    "pycharm": {
     "name": "#%% md\n"
    }
   }
  },
  {
   "cell_type": "code",
   "execution_count": 515,
   "outputs": [],
   "source": [
    "# Get the set of all VAX_NAMES\n",
    "vaccines = vaers_vax_data['VAX_NAME'].unique()\n",
    "vaccines = vaccines.to_frame()"
   ],
   "metadata": {
    "collapsed": false,
    "pycharm": {
     "name": "#%%\n"
    }
   }
  },
  {
   "cell_type": "code",
   "execution_count": 516,
   "outputs": [
    {
     "data": {
      "text/plain": "                                VAX_NAME\n229                TDAP + IPV (DOMESTIC)\n230          DTAP+IPV+HIB+HEPB (VAXELIS)\n231  MENINGOCOCCAL CONJUGATE (MENQUADFI)\n232                HEPBC (NO BRAND NAME)\n233                   PNEUMO (PREVNAR20)",
      "text/html": "<div>\n<style scoped>\n    .dataframe tbody tr th:only-of-type {\n        vertical-align: middle;\n    }\n\n    .dataframe tbody tr th {\n        vertical-align: top;\n    }\n\n    .dataframe thead th {\n        text-align: right;\n    }\n</style>\n<table border=\"1\" class=\"dataframe\">\n  <thead>\n    <tr style=\"text-align: right;\">\n      <th></th>\n      <th>VAX_NAME</th>\n    </tr>\n  </thead>\n  <tbody>\n    <tr>\n      <th>229</th>\n      <td>TDAP + IPV (DOMESTIC)</td>\n    </tr>\n    <tr>\n      <th>230</th>\n      <td>DTAP+IPV+HIB+HEPB (VAXELIS)</td>\n    </tr>\n    <tr>\n      <th>231</th>\n      <td>MENINGOCOCCAL CONJUGATE (MENQUADFI)</td>\n    </tr>\n    <tr>\n      <th>232</th>\n      <td>HEPBC (NO BRAND NAME)</td>\n    </tr>\n    <tr>\n      <th>233</th>\n      <td>PNEUMO (PREVNAR20)</td>\n    </tr>\n  </tbody>\n</table>\n</div>"
     },
     "execution_count": 516,
     "metadata": {},
     "output_type": "execute_result"
    }
   ],
   "source": [
    "vaccines.tail()"
   ],
   "metadata": {
    "collapsed": false,
    "pycharm": {
     "name": "#%%\n"
    }
   }
  },
  {
   "cell_type": "code",
   "execution_count": 517,
   "outputs": [],
   "source": [
    "vaccine_deaths = vaers_data.dropna(subset=['DIED'])\n",
    "vaccine_deaths = vaccine_deaths[['VAERS_ID', 'SEX' , 'AGE_YRS', 'DIED', 'VAX_DATE', 'ONSET_DATE','DATEDIED', 'NUMDAYS']]"
   ],
   "metadata": {
    "collapsed": false,
    "pycharm": {
     "name": "#%%\n"
    }
   }
  },
  {
   "cell_type": "code",
   "execution_count": 518,
   "outputs": [
    {
     "name": "stderr",
     "output_type": "stream",
     "text": [
      "/Users/mcruz/Documents/Programming/CSC-490/Project_2/venv/lib/python3.9/site-packages/dask/dataframe/io/csv.py:181: DtypeWarning: Columns (23) have mixed types. Specify dtype option on import or set low_memory=False.\n",
      "  df = reader(bio, **kwargs)\n"
     ]
    },
    {
     "data": {
      "text/plain": "       VAERS_ID SEX  AGE_YRS DIED    VAX_DATE  ONSET_DATE    DATEDIED  NUMDAYS\n54544   2122490   M      NaN    Y         NaN         NaN  04/01/2021      NaN\n54549   2122495   M      NaN    Y         NaN         NaN         NaN      NaN\n54554   2122500   M      NaN    Y         NaN         NaN         NaN      NaN\n54560   2122506   F     68.0    Y  03/23/2021  03/23/2021  03/24/2021      0.0\n54723   2122716   F      NaN    Y         NaN  11/01/2021         NaN      NaN",
      "text/html": "<div>\n<style scoped>\n    .dataframe tbody tr th:only-of-type {\n        vertical-align: middle;\n    }\n\n    .dataframe tbody tr th {\n        vertical-align: top;\n    }\n\n    .dataframe thead th {\n        text-align: right;\n    }\n</style>\n<table border=\"1\" class=\"dataframe\">\n  <thead>\n    <tr style=\"text-align: right;\">\n      <th></th>\n      <th>VAERS_ID</th>\n      <th>SEX</th>\n      <th>AGE_YRS</th>\n      <th>DIED</th>\n      <th>VAX_DATE</th>\n      <th>ONSET_DATE</th>\n      <th>DATEDIED</th>\n      <th>NUMDAYS</th>\n    </tr>\n  </thead>\n  <tbody>\n    <tr>\n      <th>54544</th>\n      <td>2122490</td>\n      <td>M</td>\n      <td>NaN</td>\n      <td>Y</td>\n      <td>NaN</td>\n      <td>NaN</td>\n      <td>04/01/2021</td>\n      <td>NaN</td>\n    </tr>\n    <tr>\n      <th>54549</th>\n      <td>2122495</td>\n      <td>M</td>\n      <td>NaN</td>\n      <td>Y</td>\n      <td>NaN</td>\n      <td>NaN</td>\n      <td>NaN</td>\n      <td>NaN</td>\n    </tr>\n    <tr>\n      <th>54554</th>\n      <td>2122500</td>\n      <td>M</td>\n      <td>NaN</td>\n      <td>Y</td>\n      <td>NaN</td>\n      <td>NaN</td>\n      <td>NaN</td>\n      <td>NaN</td>\n    </tr>\n    <tr>\n      <th>54560</th>\n      <td>2122506</td>\n      <td>F</td>\n      <td>68.0</td>\n      <td>Y</td>\n      <td>03/23/2021</td>\n      <td>03/23/2021</td>\n      <td>03/24/2021</td>\n      <td>0.0</td>\n    </tr>\n    <tr>\n      <th>54723</th>\n      <td>2122716</td>\n      <td>F</td>\n      <td>NaN</td>\n      <td>Y</td>\n      <td>NaN</td>\n      <td>11/01/2021</td>\n      <td>NaN</td>\n      <td>NaN</td>\n    </tr>\n  </tbody>\n</table>\n</div>"
     },
     "execution_count": 518,
     "metadata": {},
     "output_type": "execute_result"
    }
   ],
   "source": [
    "vaccine_deaths.tail()"
   ],
   "metadata": {
    "collapsed": false,
    "pycharm": {
     "name": "#%%\n"
    }
   }
  },
  {
   "cell_type": "code",
   "execution_count": 519,
   "outputs": [],
   "source": [
    "vaccine_deaths = vaccine_deaths.merge(vaers_vax_data, on=['VAERS_ID'], how='inner')"
   ],
   "metadata": {
    "collapsed": false,
    "pycharm": {
     "name": "#%%\n"
    }
   }
  },
  {
   "cell_type": "code",
   "execution_count": 520,
   "outputs": [
    {
     "name": "stderr",
     "output_type": "stream",
     "text": [
      "/Users/mcruz/Documents/Programming/CSC-490/Project_2/venv/lib/python3.9/site-packages/dask/dataframe/io/csv.py:181: DtypeWarning: Columns (9,16,27) have mixed types. Specify dtype option on import or set low_memory=False.\n",
      "  df = reader(bio, **kwargs)\n",
      "/Users/mcruz/Documents/Programming/CSC-490/Project_2/venv/lib/python3.9/site-packages/dask/dataframe/io/csv.py:181: DtypeWarning: Columns (9,16,23) have mixed types. Specify dtype option on import or set low_memory=False.\n",
      "  df = reader(bio, **kwargs)\n",
      "/Users/mcruz/Documents/Programming/CSC-490/Project_2/venv/lib/python3.9/site-packages/dask/dataframe/io/csv.py:181: DtypeWarning: Columns (23) have mixed types. Specify dtype option on import or set low_memory=False.\n",
      "  df = reader(bio, **kwargs)\n",
      "/Users/mcruz/Documents/Programming/CSC-490/Project_2/venv/lib/python3.9/site-packages/dask/dataframe/io/csv.py:181: DtypeWarning: Columns (23) have mixed types. Specify dtype option on import or set low_memory=False.\n",
      "  df = reader(bio, **kwargs)\n"
     ]
    },
    {
     "data": {
      "text/plain": "['/Users/mcruz/Documents/Programming/CSC-490/Project_2/dataset/vaccine_deaths_extracted.csv']"
     },
     "execution_count": 520,
     "metadata": {},
     "output_type": "execute_result"
    }
   ],
   "source": [
    "vaccine_deaths.to_csv('dataset/vaccine_deaths_extracted.csv', single_file=True)"
   ],
   "metadata": {
    "collapsed": false,
    "pycharm": {
     "name": "#%%\n"
    }
   }
  }
 ],
 "metadata": {
  "kernelspec": {
   "display_name": "Python 3",
   "language": "python",
   "name": "python3"
  },
  "language_info": {
   "codemirror_mode": {
    "name": "ipython",
    "version": 2
   },
   "file_extension": ".py",
   "mimetype": "text/x-python",
   "name": "python",
   "nbconvert_exporter": "python",
   "pygments_lexer": "ipython2",
   "version": "2.7.6"
  }
 },
 "nbformat": 4,
 "nbformat_minor": 0
}